{
 "cells": [
  {
   "cell_type": "code",
   "execution_count": 77,
   "metadata": {
    "collapsed": true
   },
   "outputs": [],
   "source": [
    "def ntt_x(s, k, l=4, g=10, p=101):\n",
    "    return sum(s[i]*pow(g, k*i, p) for i in range(l))%p\n",
    "def ntt(s, l=4, g=10, p=101):\n",
    "    assert len(s) <= l\n",
    "    assert pow(g,l,p)==1\n",
    "    s = s+[0]*(l-len(s))\n",
    "    return [ntt_x(s, k, l, g, p) for k in range(l)]\n",
    "def inv_ntt(s, l=4, g=10, p=101):\n",
    "    g2 = pow(g, l-1, p)\n",
    "    l2 = p - (p-1)//l\n",
    "    return [l2*i%p for i in ntt(s,l,g2,p)]"
   ]
  },
  {
   "cell_type": "code",
   "execution_count": 79,
   "metadata": {
    "collapsed": false
   },
   "outputs": [
    {
     "name": "stdout",
     "output_type": "stream",
     "text": [
      "[12, 35, 6, 76] [7, 52, 98, 53]\n",
      "[84, 2, 83, 89]\n"
     ]
    }
   ],
   "source": [
    "a =237\n",
    "b =52\n",
    "p, l = 101, 4\n",
    "a_s = [7, 3, 2]\n",
    "b_s = [2, 5]\n",
    "a_t = ntt(a_s)\n",
    "b_t = ntt(b_s)\n",
    "print(a_t, b_t)\n",
    "c_t = [a_t[i]*b_t[i]%p for i in range(l)]\n",
    "print(c_t)\n"
   ]
  },
  {
   "cell_type": "code",
   "execution_count": 83,
   "metadata": {
    "collapsed": false
   },
   "outputs": [
    {
     "data": {
      "text/plain": [
       "[14, 41, 19, 10]"
      ]
     },
     "execution_count": 83,
     "metadata": {},
     "output_type": "execute_result"
    }
   ],
   "source": [
    "c_s = inv_ntt(c_t)\n",
    "c_s"
   ]
  },
  {
   "cell_type": "code",
   "execution_count": 84,
   "metadata": {
    "collapsed": false
   },
   "outputs": [
    {
     "data": {
      "text/plain": [
       "(12324, 12324)"
      ]
     },
     "execution_count": 84,
     "metadata": {},
     "output_type": "execute_result"
    }
   ],
   "source": [
    "a*b, sum(c_s[i]*10**i for i in range(l))"
   ]
  },
  {
   "cell_type": "code",
   "execution_count": 90,
   "metadata": {
    "collapsed": false
   },
   "outputs": [
    {
     "data": {
      "text/plain": [
       "True"
      ]
     },
     "execution_count": 90,
     "metadata": {},
     "output_type": "execute_result"
    }
   ],
   "source": [
    "gmpy2.is_prime(101)"
   ]
  }
 ],
 "metadata": {
  "kernelspec": {
   "display_name": "Python 3",
   "language": "python",
   "name": "python3"
  },
  "language_info": {
   "codemirror_mode": {
    "name": "ipython",
    "version": 3
   },
   "file_extension": ".py",
   "mimetype": "text/x-python",
   "name": "python",
   "nbconvert_exporter": "python",
   "pygments_lexer": "ipython3",
   "version": "3.4.3"
  }
 },
 "nbformat": 4,
 "nbformat_minor": 0
}
