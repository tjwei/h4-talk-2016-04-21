{
 "cells": [
  {
   "cell_type": "code",
   "execution_count": 28,
   "metadata": {
    "collapsed": false
   },
   "outputs": [
    {
     "name": "stdout",
     "output_type": "stream",
     "text": [
      "0.0\n",
      "1.0\n",
      "1.0\n",
      "2.0\n",
      "3.0000000000000004\n",
      "5.000000000000001\n",
      "8.000000000000002\n",
      "13.000000000000002\n",
      "21.000000000000004\n",
      "34.00000000000001\n",
      "55.000000000000014\n",
      "89.00000000000003\n",
      "144.00000000000006\n",
      "233.00000000000006\n",
      "377.00000000000017\n"
     ]
    }
   ],
   "source": [
    "sqrt5 = 5**0.5\n",
    "a = (1 + sqrt5)/2\n",
    "b = (1 - sqrt5)/2\n",
    "k = 1/sqrt5\n",
    "\n",
    "for n in range(15):\n",
    "    print( k*(a**n-b**n))"
   ]
  },
  {
   "cell_type": "code",
   "execution_count": 25,
   "metadata": {
    "collapsed": false
   },
   "outputs": [
    {
     "data": {
      "text/plain": [
       "1"
      ]
     },
     "execution_count": 25,
     "metadata": {},
     "output_type": "execute_result"
    }
   ],
   "source": [
    "p = 59\n",
    "5**((p-1)//2)%p"
   ]
  },
  {
   "cell_type": "code",
   "execution_count": 27,
   "metadata": {
    "collapsed": false
   },
   "outputs": [
    {
     "name": "stdout",
     "output_type": "stream",
     "text": [
      "0\n",
      "1\n",
      "1\n",
      "2\n",
      "3\n",
      "5\n",
      "8\n",
      "13\n",
      "21\n",
      "34\n",
      "55\n",
      "30\n",
      "26\n",
      "56\n",
      "23\n"
     ]
    }
   ],
   "source": [
    "sqrt5 = 5**((p+1)//4)%p\n",
    "a = (1 + sqrt5)*(p+1)//2\n",
    "b = (1 - sqrt5)*(p+1)//2\n",
    "k = sqrt5**(p-2)\n",
    "\n",
    "for n in range(15):\n",
    "    print( k*(a**n-b**n)%p  )"
   ]
  },
  {
   "cell_type": "code",
   "execution_count": null,
   "metadata": {
    "collapsed": true
   },
   "outputs": [],
   "source": []
  }
 ],
 "metadata": {
  "kernelspec": {
   "display_name": "Python 3",
   "language": "python",
   "name": "python3"
  },
  "language_info": {
   "codemirror_mode": {
    "name": "ipython",
    "version": 3
   },
   "file_extension": ".py",
   "mimetype": "text/x-python",
   "name": "python",
   "nbconvert_exporter": "python",
   "pygments_lexer": "ipython3",
   "version": "3.4.3"
  }
 },
 "nbformat": 4,
 "nbformat_minor": 0
}
